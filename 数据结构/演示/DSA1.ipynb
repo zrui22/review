{
 "cells": [
  {
   "cell_type": "markdown",
   "id": "c84d6bb4",
   "metadata": {},
   "source": [
    "# it's a demonstration of data structures and algorithms.\n",
    "# only use to review and learn."
   ]
  },
  {
   "cell_type": "code",
   "execution_count": 2,
   "id": "728f2781",
   "metadata": {},
   "outputs": [
    {
     "name": "stdout",
     "output_type": "stream",
     "text": [
      "Hello, World!\n"
     ]
    }
   ],
   "source": [
    "print(\"Hello, World!\")"
   ]
  },
  {
   "cell_type": "markdown",
   "id": "d7cf5873",
   "metadata": {},
   "source": [
    "## what's dsa ：\n",
    "Data Structures and Algorithms (DSA) is a combination of two fundamental concepts in computer science. Data structures are ways to organize and store data, while algorithms are step-by-step procedures or formulas for solving problems. Together, they enable efficient data processing and manipulation, which is essential for building software applications and systems.\n",
    "\n",
    "## Computation = (Data Structure + Algorithm (DSA)) x Efficiency\n",
    "### 各数据结构的ADT接口及其不同实现\n",
    "-- 序列（向量、列表、栈、队列），树及搜索树（AVL树、红黑树、B树、 kd-树），优先队列（堆），字典（散列表），图的算法与应用\n",
    "### 构造有效算法模块的常用技巧\n",
    "-- 顺序和二分查找，选取与排序，遍历\n",
    "### 模式匹配，散列，几何查找\n",
    "-- 算法设计的典型策略与模式\n",
    "-- 迭代、贪心、递归、分治、减治、试探-剪枝-回溯、动态规划\n",
    "### 复杂度分析的基本方法\n",
    "-- 渐进分析与相关记号\n",
    "-- 递推关系、递归跟踪\n",
    "-- 分摊分析、后向分析\n",
    "\n",
    "### 复杂度：\n",
    " O(1),O(logn),O(n),O(nlogn),O(2^n),O(n!)"
   ]
  },
  {
   "cell_type": "markdown",
   "id": "53ba96c2",
   "metadata": {},
   "source": [
    "# 线性递归复杂度计算\n",
    "## 手动递推，递推方程\n",
    "（T(n) = T(n-1) + O(1)）\n",
    "## Master Theorem:\n",
    "T(n) = aT(n/b) + f(n)\n",
    "\n",
    "## example : reverse"
   ]
  },
  {
   "cell_type": "code",
   "execution_count": 3,
   "id": "a8ff8500",
   "metadata": {},
   "outputs": [
    {
     "name": "stdout",
     "output_type": "stream",
     "text": [
      "0 5 [5, 2, 2, 3, 4, 1]\n",
      "1 4 [5, 4, 2, 3, 2, 1]\n",
      "2 3 [5, 4, 3, 2, 2, 1]\n"
     ]
    },
    {
     "data": {
      "text/plain": [
       "[5, 4, 3, 2, 2, 1]"
      ]
     },
     "execution_count": 3,
     "metadata": {},
     "output_type": "execute_result"
    }
   ],
   "source": [
    "def reversed(lst, lo, hi):\n",
    "    if lo < hi:\n",
    "        lst[lo], lst[hi] = lst[hi], lst[lo]\n",
    "        print(lo,hi,lst)\n",
    "        reversed(lst, lo + 1, hi - 1)\n",
    "    return lst\n",
    "\n",
    "list = [1,2,2,3,4,5]\n",
    "reversed(list, 0, len(list) - 1)\n"
   ]
  },
  {
   "cell_type": "markdown",
   "id": "1bbc5136",
   "metadata": {},
   "source": [
    "# 分治和减治\n",
    "\n",
    "分治： 划分为规模相当子问题\n",
    "\n",
    "减治: 逐步缩小问题规模，解决平凡子问题\n",
    "\n",
    "example:求和问题"
   ]
  },
  {
   "cell_type": "code",
   "execution_count": 10,
   "id": "d4b25b4c",
   "metadata": {},
   "outputs": [
    {
     "name": "stdout",
     "output_type": "stream",
     "text": [
      "499500\n",
      "sum_recursive execution time: 0.00099945068359375\n",
      "499500\n",
      "sum_divide_and_conquer execution time: 0.0\n"
     ]
    }
   ],
   "source": [
    "def sum_recursive(lst, n):\n",
    "    if n == 0:\n",
    "        return 0\n",
    "    else: \n",
    "        return lst[n-1] + sum_recursive(lst, n-1)\n",
    "\n",
    "def sum_divide_and_conquer(lst, lo, hi):\n",
    "    if hi - lo < 2:\n",
    "        return lst[lo]\n",
    "    mid = (lo + hi) >> 1\n",
    "    return sum_divide_and_conquer(lst, lo, mid) + sum_divide_and_conquer(lst, mid, hi)\n",
    "\n",
    "import time\n",
    "\n",
    "list = []\n",
    "for i in range(1000):\n",
    "    list.append(i)\n",
    "\n",
    "starttime = time.time()\n",
    "print(sum_recursive(list, len(list)))\n",
    "endtime = time.time()\n",
    "print(\"sum_recursive execution time:\", endtime - starttime)\n",
    "\n",
    "starttime = time.time()\n",
    "print(sum_divide_and_conquer(list, 0, len(list)))\n",
    "endtime = time.time()\n",
    "print(\"sum_divide_and_conquer execution time:\", endtime - starttime)"
   ]
  },
  {
   "cell_type": "markdown",
   "id": "7e6405a3",
   "metadata": {},
   "source": [
    "# 动态规划\n",
    "各递归实例被大量重复运用\n",
    "\n",
    "Dynamic programming , sometimes need reverse direction;\n",
    "## example ： fib"
   ]
  },
  {
   "cell_type": "code",
   "execution_count": 19,
   "id": "209c2cdd",
   "metadata": {},
   "outputs": [
    {
     "name": "stdout",
     "output_type": "stream",
     "text": [
      "7\n",
      "6\n",
      "5\n",
      "4\n",
      "3\n",
      "2\n",
      "2\n",
      "3\n",
      "2\n",
      "4\n",
      "3\n",
      "2\n",
      "2\n",
      "5\n",
      "4\n",
      "3\n",
      "2\n",
      "2\n",
      "3\n",
      "2\n",
      "fib_font(7): 13\n",
      "1 1\n",
      "2 1\n",
      "3 2\n",
      "5 3\n",
      "8 5\n",
      "13 8\n",
      "21 13\n",
      "fib_dp(7): 13\n"
     ]
    }
   ],
   "source": [
    "def fib_font(n):\n",
    "    if n <= 1:\n",
    "        return n\n",
    "    else:\n",
    "        print(n)\n",
    "        return fib_font(n-1) + fib_font(n-2)\n",
    "\n",
    "def fib_dp(n):\n",
    "    f = 1\n",
    "    g = 0\n",
    "    while n > 0:\n",
    "        f, g = f + g, f\n",
    "        print(f, g)\n",
    "        n -= 1\n",
    "    return g\n",
    "\n",
    "print(\"fib_font(7):\", fib_font(7))\n",
    "print(\"fib_dp(7):\", fib_dp(7))"
   ]
  },
  {
   "cell_type": "markdown",
   "id": "afc0d410",
   "metadata": {},
   "source": [
    "## example : 最长公共子序串\n",
    "两个序列公共子序列的最长者(longedt common subsequence)"
   ]
  },
  {
   "cell_type": "code",
   "execution_count": 24,
   "id": "35ef03a7",
   "metadata": {},
   "outputs": [
    {
     "name": "stdout",
     "output_type": "stream",
     "text": [
      "LCS (recursive): BCAB\n",
      "LCS (DP): BCAB\n"
     ]
    }
   ],
   "source": [
    "def lcs(a,b,n,m):\n",
    "    if n == -1 or m == -1:\n",
    "        return ''\n",
    "    elif a[n] == b[m]:\n",
    "        return lcs(a,b,n-1,m-1) + a[n]\n",
    "    else:\n",
    "        return max(lcs(a,b,n-1,m),lcs(a,b,n,m-1))\n",
    "\n",
    "def lcs_dp(a, b):\n",
    "    n = len(a)\n",
    "    m = len(b)\n",
    "    dp = [['' for _ in range(m + 1)] for _ in range(n + 1)]\n",
    "\n",
    "    for i in range(1, n + 1):\n",
    "        for j in range(1, m + 1):\n",
    "            if a[i - 1] == b[j - 1]:\n",
    "                dp[i][j] = dp[i - 1][j - 1] + a[i - 1]\n",
    "            else:\n",
    "                dp[i][j] = max(dp[i - 1][j], dp[i][j - 1], key=len)\n",
    "    return dp[n][m]\n",
    "a = 'ABCBDAB'\n",
    "b = 'BMCAB'\n",
    "print(\"LCS (recursive):\", lcs(a, b, len(a) - 1, len(b) - 1))\n",
    "print(\"LCS (DP):\", lcs_dp(a, b))"
   ]
  }
 ],
 "metadata": {
  "kernelspec": {
   "display_name": "jup_me",
   "language": "python",
   "name": "python3"
  },
  "language_info": {
   "codemirror_mode": {
    "name": "ipython",
    "version": 3
   },
   "file_extension": ".py",
   "mimetype": "text/x-python",
   "name": "python",
   "nbconvert_exporter": "python",
   "pygments_lexer": "ipython3",
   "version": "3.10.18"
  }
 },
 "nbformat": 4,
 "nbformat_minor": 5
}
