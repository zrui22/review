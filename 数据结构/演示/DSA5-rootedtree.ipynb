{
 "cells": [
  {
   "cell_type": "markdown",
   "id": "1ea27348",
   "metadata": {},
   "source": [
    "# 从树开始\n",
    "\n",
    "## 树\n",
    "- 树是一种数据结构，由节点和边组成。每个节点可以有零个或多个子节点，但每个节点只能有一个父节点。树的顶端节点称为根节点，叶子节点是没有子节点的节点。\n",
    "- 树是极小联通图的特例。 \n",
    "### 树的基本性质：\n",
    "1. 有 n 个节点的树有 n-1 条边。\n",
    "2. 树是无环的。\n",
    "3. 树是连通的。\n",
    "\n",
    "### 树的基本概念：\n",
    "- **根节点**：树的顶端节点。深度为0。\n",
    "- **叶子节点**：没有子节点的节点。\n",
    "- **子节点**：某个节点的直接下级节点。\n",
    "- **父节点**：某个节点的直接上级节点。\n",
    "- **兄弟节点**：同一个父节点的子节点。\n",
    "- **深度**：节点到根节点的边数。\n",
    "- **高度**：节点到叶子节点的最长路径的边数。空树的高度为-1，只有一个节点的树高度为0。\n",
    "- **层数**：树的层数等于高度加1。\n",
    "- **子树**：某个节点及其所有后代节点组成的树。\n",
    "- **路径**：从一个节点到另一个节点的边的序列。\n",
    "- **层次**：树的层次从根节点开始，根节点为第0层，子节点为第1层，以此类推。\n",
    "- **度**：节点的子节点数量。(出度：子节点数量；入度：父节点数量)\n",
    "- **森林**：由多棵树组成的集合。\n",
    "- **满树**：每个节点都有相同数量的子节点。\n",
    "- **完全树**：除了最后一层外，每一层的节点数都达到最大值，且最后一层的节点从左到右连续排列。\n",
    "- **平衡树**：树的高度尽可能小，左右子树的高度差不超过1。\n",
    "- **二叉树**：每个节点最多有两个子节点的树。\n",
    "- **二叉搜索树**：左子树的所有节点小于根节点，右子树的所有节点大于根节点。\n",
    "- **AVL树**：一种自平衡的二叉搜索树，保证左右子树的高度差不超过1。\n",
    "- **红黑树**：一种自平衡的二叉搜索树，具有红黑性质，保证树的高度平衡。\n",
    "- **B树**：一种自平衡的多路搜索树，适用于数据库和文件系统。\n",
    "- **B+树**：B树的变种，所有叶子节点在同一层，适用于数据库索引。"
   ]
  },
  {
   "cell_type": "code",
   "execution_count": null,
   "id": "03105303",
   "metadata": {},
   "outputs": [
    {
     "name": "stdout",
     "output_type": "stream",
     "text": [
      "根节点\n",
      "    子节点1\n",
      "        子节点1.1\n",
      "    子节点2\n",
      "        子节点2.1\n",
      "        子节点2.2\n"
     ]
    }
   ],
   "source": [
    "class TreeNode:\n",
    "    def __init__(self, data, parent=None):\n",
    "        self.data = data\n",
    "        self.parent = parent\n",
    "        self.children = []\n",
    "\n",
    "    def add_child(self, child_data):\n",
    "        child_node = TreeNode(child_data, parent=self)\n",
    "        self.children.append(child_node)\n",
    "        return child_node\n",
    "    def is_empty_children(self):\n",
    "        return len(self.children) == 0\n",
    "    def __repr__(self):\n",
    "        return f\"TreeNode(data={self.data})\"\n",
    "def print_tree(node, level=0):\n",
    "    indent = \" \" * (level * 4)\n",
    "    print(f\"{indent}{node.data}\")\n",
    "    for child in node.children:\n",
    "        print_tree(child, level + 1)\n",
    "# 示例：构建一棵树\n",
    "root = TreeNode(\"根节点\")\n",
    "child1 = root.add_child(\"子节点1\")\n",
    "child2 = root.add_child(\"子节点2\")\n",
    "child1.add_child(\"子节点1.1\")\n",
    "child2.add_child(\"子节点2.1\")\n",
    "child2.add_child(\"子节点2.2\")\n",
    "print_tree(root)"
   ]
  },
  {
   "cell_type": "markdown",
   "id": "619e3c5b",
   "metadata": {},
   "source": [
    "## 二叉树\n",
    "- 二叉树是一种特殊的树，每个节点最多有两个子节点，分别称为左子节点和右子节点。\n",
    "- 二叉树的基本性质：\n",
    "  1. 有 n 个节点的二叉树有 n-1 条边。\n",
    "  2. 二叉树的高度为 log(n)。\n",
    "  3. 完全二叉树的叶子节点在最后一层或倒数第二层。\n",
    "- 二叉树的基本概念：\n",
    "  - **根节点**：二叉树的顶端节点。\n",
    "  - **叶子节点**：没有子节点的节点。\n",
    "  - **左子节点**：某个节点的左侧子节点。\n",
    "  - **右子节点**：某个节点的右侧子节点。\n",
    "  - **深度**：节点到根节点的边数。\n",
    "  - **高度**：节点到叶子节点的最长路径的边数。\n",
    "  - **层数**：二叉树的层数等于高度加1。\n",
    "- 二叉树的遍历方式：\n",
    "  - **前序遍历**：访问根节点，遍历左子树，再遍历右子树。\n",
    "  - **中序遍历**：遍历左子树，访问根节点，再遍历右子树。\n",
    "  - **后序遍历**：遍历左子树，遍历右子树，访问根节点。\n",
    "  - **层次遍历**：按层次从上到下、从左到右访问节点。"
   ]
  },
  {
   "cell_type": "code",
   "execution_count": null,
   "id": "85cf9ab3",
   "metadata": {},
   "outputs": [],
   "source": []
  }
 ],
 "metadata": {
  "kernelspec": {
   "display_name": "jup_me",
   "language": "python",
   "name": "python3"
  },
  "language_info": {
   "codemirror_mode": {
    "name": "ipython",
    "version": 3
   },
   "file_extension": ".py",
   "mimetype": "text/x-python",
   "name": "python",
   "nbconvert_exporter": "python",
   "pygments_lexer": "ipython3",
   "version": "3.10.18"
  }
 },
 "nbformat": 4,
 "nbformat_minor": 5
}
