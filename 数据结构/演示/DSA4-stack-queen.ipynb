{
 "cells": [
  {
   "cell_type": "markdown",
   "id": "b865a8ed",
   "metadata": {},
   "source": [
    "# 栈与队列"
   ]
  },
  {
   "cell_type": "markdown",
   "id": "df4874dd",
   "metadata": {},
   "source": [
    "- 栈：只能在表的顶端进出（访问受限）的线性表(后进先出)\n",
    "- 队列：只能在表的前端删除，在表的后端插入（先进先出）的线性表"
   ]
  },
  {
   "cell_type": "code",
   "execution_count": 1,
   "id": "c6798a51",
   "metadata": {},
   "outputs": [],
   "source": [
    "class stack:\n",
    "    def __init__(self):\n",
    "        self.items = []\n",
    "    def push(self,item):\n",
    "        self.items.append(item)\n",
    "    def pop(self):\n",
    "        if not self.is_empty():\n",
    "            return self.items.pop()\n",
    "    def is_empty(self):\n",
    "        return len(self.items) == 0\n",
    "    def top(self):\n",
    "        if not self.is_empty():\n",
    "            return self.items[-1]\n",
    "    def size(self):\n",
    "        return len(self.items)\n",
    "class queue:\n",
    "    def __init__(self):\n",
    "        self.items = []\n",
    "    def enqueue(self,item):\n",
    "        self.items.append(item)\n",
    "    def dequeue(self):\n",
    "        if not self.is_empty():\n",
    "            return self.items.pop(0)\n",
    "    def is_empty(self):\n",
    "        return len(self.items) == 0\n",
    "    def front(self):\n",
    "        if not self.is_empty():\n",
    "            return self.items[0]\n",
    "    def size(self):\n",
    "        return len(self.items)"
   ]
  },
  {
   "cell_type": "markdown",
   "id": "b9154bbf",
   "metadata": {},
   "source": [
    "## 栈的基本应用\n",
    "1. 进制转换"
   ]
  },
  {
   "cell_type": "code",
   "execution_count": 2,
   "id": "188d62b6",
   "metadata": {},
   "outputs": [
    {
     "name": "stdout",
     "output_type": "stream",
     "text": [
      "E9\n",
      "11101001\n"
     ]
    }
   ],
   "source": [
    "def convert_base(num, base):\n",
    "    s = stack()\n",
    "    if num == 0:\n",
    "        return \"0\"\n",
    "    characters = \"0123456789ABCDEF\"\n",
    "    while(num > 0):\n",
    "        remainder = num % base\n",
    "        num = num // base\n",
    "        s.push(characters[remainder])\n",
    "    result = \"\"\n",
    "    while(not s.is_empty()):\n",
    "        result += s.pop()\n",
    "    return result\n",
    "\n",
    "print(convert_base(233, 16))  # Example: Convert 233 to hexadecimal\n",
    "print(convert_base(233, 2))  # Example: Convert 233 to binary"
   ]
  },
  {
   "cell_type": "markdown",
   "id": "8b898471",
   "metadata": {},
   "source": [
    "2. 括号匹配"
   ]
  },
  {
   "cell_type": "code",
   "execution_count": 3,
   "id": "0d91122f",
   "metadata": {},
   "outputs": [
    {
     "name": "stdout",
     "output_type": "stream",
     "text": [
      "True\n",
      "False\n"
     ]
    }
   ],
   "source": [
    "def parentheses_match(s):\n",
    "    p = stack()\n",
    "    for char in s:\n",
    "        if char in \"({[\":\n",
    "            p.push(char)\n",
    "        elif char in \")}]\":\n",
    "            if(p.is_empty()):\n",
    "                return False\n",
    "            else:\n",
    "                top = p.pop()\n",
    "                if(char == '(' and top == ')'\n",
    "                   or char == '[' and top == ']'\n",
    "                   or char == '{' and top == '}'):\n",
    "                    break\n",
    "    return p.is_empty()\n",
    "\n",
    "print(parentheses_match(\"((a+b)*c)\"))  # True\n",
    "print(parentheses_match(\"((a+b)*c\"))  # False"
   ]
  },
  {
   "cell_type": "markdown",
   "id": "c40938f9",
   "metadata": {},
   "source": [
    "3. 栈混洗\n",
    "- 入栈出栈可行操作序列分析 — 卡特兰数问题\n",
    "条件：操作序列(2n位)的任意前m位，入栈数大于等于出栈数\n",
    "- 计算卡特兰数\n",
    "  - C(0) = 1\n",
    "  - C(n) = Σ(C(i) * C(n-i-1)) for i in range(0, n)\n",
    "    - C(n) = C(2n, n) / (n + 1)\n",
    "- 计算括号匹配数\n",
    "  - C(n) = C(2n, n) / (n + 1)\n",
    "\n",
    "判断是否属于栈混洗：\n",
    "- 维护一个栈，遍历入栈序列\n",
    "- 对于每个元素，若栈顶元素等于出栈序列的当前元素，则出栈\n",
    "- 否则，将当前元素入栈"
   ]
  },
  {
   "cell_type": "code",
   "execution_count": 4,
   "id": "cdbb34ea",
   "metadata": {},
   "outputs": [
    {
     "name": "stdout",
     "output_type": "stream",
     "text": [
      "True\n",
      "True\n"
     ]
    }
   ],
   "source": [
    "def stackPermutation(B):\n",
    "    S = stack()\n",
    "    n = len(B)\n",
    "    i = 1\n",
    "    for k in range(n):\n",
    "        while S.is_empty() or B[k] != S.top():\n",
    "            if i > n:\n",
    "                return False\n",
    "            else:\n",
    "                S.push(i)\n",
    "                i += 1\n",
    "        S.pop()\n",
    "    return True\n",
    "\n",
    "print(stackPermutation([1, 2, 3, 4]))  # True\n",
    "print(stackPermutation([4, 3, 2, 1]))  # True"
   ]
  },
  {
   "cell_type": "markdown",
   "id": "9cd45d30",
   "metadata": {},
   "source": [
    "4. 表达式求值\n",
    "\n",
    "- 分类：中缀，前缀，后缀表达式\n",
    "- 前缀无需优先级和括号，易于求解\n",
    "- 后缀（逆波兰）表达式也易于求值，三者可以相互转换\n",
    "\n",
    "下面为后缀用栈的简单求值"
   ]
  },
  {
   "cell_type": "code",
   "execution_count": 5,
   "id": "8a61bed5",
   "metadata": {},
   "outputs": [
    {
     "name": "stdout",
     "output_type": "stream",
     "text": [
      "26\n",
      "21\n",
      "3.5\n",
      "6\n"
     ]
    }
   ],
   "source": [
    "def rpnevaluation(expr):\n",
    "    s = stack()\n",
    "    for char in expr:\n",
    "        if char in \"0123456789\":\n",
    "            s.push(int(char))\n",
    "        elif char in \"+-*/\":\n",
    "            b = s.pop()\n",
    "            a = s.pop()\n",
    "            if char == '+':\n",
    "                s.push(a + b) \n",
    "            elif char == '-':\n",
    "                s.push(a - b)\n",
    "            elif char == '*':\n",
    "                s.push(a * b)\n",
    "            elif char == '/':\n",
    "                s.push(a / b)\n",
    "        elif char == '^':\n",
    "            b = s.pop()\n",
    "            a = s.pop()\n",
    "            s.push(a ** b)\n",
    "        elif char == '!':\n",
    "            a = s.pop()\n",
    "            fact = 1\n",
    "            for i in range(1, a + 1):\n",
    "                fact *= i\n",
    "            s.push(fact)\n",
    "    if s.is_empty():\n",
    "        return None\n",
    "    return s.pop()\n",
    "\n",
    "#example usage\n",
    "print(rpnevaluation(\"23*54*+\"))\n",
    "print(rpnevaluation(\"23+5*4-\"))\n",
    "print(rpnevaluation(\"23+5*4-6/\"))\n",
    "print(rpnevaluation(\"23+5*4-6/2^3!\"))"
   ]
  },
  {
   "cell_type": "markdown",
   "id": "bdb726c6",
   "metadata": {},
   "source": [
    "中缀表达式需要先转换为rpn"
   ]
  },
  {
   "cell_type": "code",
   "execution_count": 6,
   "id": "d0e4b444",
   "metadata": {},
   "outputs": [
    {
     "name": "stdout",
     "output_type": "stream",
     "text": [
      "Token: 2, Output: ['2'], Stack: []\n",
      "Token: *, Output: ['2'], Stack: ['*']\n",
      "Token: 3, Output: ['2', '3'], Stack: ['*']\n",
      "Token: +, Output: ['2', '3', '*'], Stack: ['+']\n",
      "Token: 4, Output: ['2', '3', '*', '4'], Stack: ['+']\n",
      "Token: -, Output: ['2', '3', '*', '4', '+'], Stack: ['-']\n",
      "Token: 5, Output: ['2', '3', '*', '4', '+', '5'], Stack: ['-']\n",
      "Token: /, Output: ['2', '3', '*', '4', '+', '5'], Stack: ['-', '/']\n",
      "Token: 6, Output: ['2', '3', '*', '4', '+', '5', '6'], Stack: ['-', '/']\n",
      "Token: *, Output: ['2', '3', '*', '4', '+', '5', '6', '/'], Stack: ['-', '*']\n",
      "Token: 2, Output: ['2', '3', '*', '4', '+', '5', '6', '/', '2'], Stack: ['-', '*']\n",
      "Token: +, Output: ['2', '3', '*', '4', '+', '5', '6', '/', '2', '*', '-'], Stack: ['+']\n",
      "Token: 1, Output: ['2', '3', '*', '4', '+', '5', '6', '/', '2', '*', '-', '1'], Stack: ['+']\n",
      "后缀表达式: 23*4+56/2*-1+\n",
      "求值结果: 9.333333333333334\n",
      "Token: 2, Output: ['2'], Stack: []\n",
      "Token: +, Output: ['2'], Stack: ['+']\n",
      "Token: 3, Output: ['2', '3'], Stack: ['+']\n",
      "Token: *, Output: ['2', '3'], Stack: ['+', '*']\n",
      "Token: [, Output: ['2', '3'], Stack: ['+', '*', '[']\n",
      "Token: 4, Output: ['2', '3', '4'], Stack: ['+', '*', '[']\n",
      "Token: -, Output: ['2', '3', '4'], Stack: ['+', '*', '[', '-']\n",
      "Token: 5, Output: ['2', '3', '4', '5'], Stack: ['+', '*', '[', '-']\n",
      "Token: /, Output: ['2', '3', '4', '5'], Stack: ['+', '*', '[', '-', '/']\n",
      "Token: (, Output: ['2', '3', '4', '5'], Stack: ['+', '*', '[', '-', '/', '(']\n",
      "Token: 6, Output: ['2', '3', '4', '5', '6'], Stack: ['+', '*', '[', '-', '/', '(']\n",
      "Token: ^, Output: ['2', '3', '4', '5', '6'], Stack: ['+', '*', '[', '-', '/', '(', '^']\n",
      "Token: 2, Output: ['2', '3', '4', '5', '6', '2'], Stack: ['+', '*', '[', '-', '/', '(', '^']\n",
      "Token: ), Output: ['2', '3', '4', '5', '6', '2', '^'], Stack: ['+', '*', '[', '-', '/']\n",
      "Token: ], Output: ['2', '3', '4', '5', '6', '2', '^', '/', '-'], Stack: ['+', '*']\n",
      "Token: +, Output: ['2', '3', '4', '5', '6', '2', '^', '/', '-', '*', '+'], Stack: ['+']\n",
      "Token: 7, Output: ['2', '3', '4', '5', '6', '2', '^', '/', '-', '*', '+', '7'], Stack: ['+']\n",
      "Token: !, Output: ['2', '3', '4', '5', '6', '2', '^', '/', '-', '*', '+', '7'], Stack: ['+', '!']\n",
      "后缀表达式: 234562^/-*+7!+\n",
      "求值结果: 5053.583333333333\n"
     ]
    }
   ],
   "source": [
    "def infix_to_postfix(expr):\n",
    "    precedence = {'+':1, '-':1, '*':2, '/':2, '^':3, '!':4}\n",
    "    output = []\n",
    "    op_stack = stack()\n",
    "    tokens = []\n",
    "    i = 0\n",
    "    \n",
    "    # 分词\n",
    "    while i < len(expr):\n",
    "        if expr[i].isdigit():\n",
    "            num = expr[i]\n",
    "            while i+1 < len(expr) and expr[i+1].isdigit():\n",
    "                i += 1\n",
    "                num += expr[i]\n",
    "            tokens.append(num)\n",
    "        elif expr[i] in \"+-*/^!()[]{}\":\n",
    "            tokens.append(expr[i])\n",
    "        i += 1\n",
    "\n",
    "    # 括号配对字典\n",
    "    left_brackets = {'(': ')', '[': ']', '{': '}'}\n",
    "    right_brackets = {')': '(', ']': '[', '}': '{'}\n",
    "\n",
    "    for token in tokens:\n",
    "        if token.isdigit():\n",
    "            output.append(token)\n",
    "        elif token in left_brackets:\n",
    "            op_stack.push(token)\n",
    "        elif token in right_brackets:\n",
    "            while not op_stack.is_empty() and op_stack.top() != right_brackets[token]:\n",
    "                output.append(op_stack.pop())\n",
    "            op_stack.pop()  \n",
    "        else:\n",
    "            while (not op_stack.is_empty() and op_stack.top() not in left_brackets and\n",
    "                   precedence.get(token, 0) <= precedence.get(op_stack.top(), 0)):\n",
    "                output.append(op_stack.pop())\n",
    "            op_stack.push(token)\n",
    "        print(f\"Token: {token}, Output: {output}, Stack: {op_stack.items}\")\n",
    "    while not op_stack.is_empty():\n",
    "        output.append(op_stack.pop())\n",
    "    return ''.join(output)\n",
    "\n",
    "#exaple usage\n",
    "infix_expr = \"2*3+4-5/6*2+1\"\n",
    "postfix_expr = infix_to_postfix(infix_expr)\n",
    "print(\"后缀表达式:\", postfix_expr)\n",
    "print(\"求值结果:\", rpnevaluation(postfix_expr))\n",
    "\n",
    "# example usage\n",
    "infix_expr = \"2+3*[4-5/(6^2)]+7!\"\n",
    "postfix_expr = infix_to_postfix(infix_expr)\n",
    "print(\"后缀表达式:\", postfix_expr)\n",
    "print(\"求值结果:\", rpnevaluation(postfix_expr))"
   ]
  },
  {
   "cell_type": "code",
   "execution_count": 7,
   "id": "6b9eaa2c",
   "metadata": {},
   "outputs": [
    {
     "name": "stdout",
     "output_type": "stream",
     "text": [
      "中缀表达式直接求值: 5053.583333333333\n"
     ]
    }
   ],
   "source": [
    "def evaluate_infix(expr):\n",
    "    precedence = {'+':1, '-':1, '*':2, '/':2, '^':3, '!':4}\n",
    "    left_brackets = {'(': ')', '[': ']', '{': '}'}\n",
    "    right_brackets = {')': '(', ']': '[', '}': '{'}\n",
    "    op_stack = stack()\n",
    "    val_stack = stack()\n",
    "    tokens = []\n",
    "    i = 0\n",
    "\n",
    "    # 分词\n",
    "    while i < len(expr):\n",
    "        if expr[i].isdigit():\n",
    "            num = expr[i]\n",
    "            while i+1 < len(expr) and expr[i+1].isdigit():\n",
    "                i += 1\n",
    "                num += expr[i]\n",
    "            tokens.append(num)\n",
    "        elif expr[i] in \"+-*/^!()[]{}\":\n",
    "            tokens.append(expr[i])\n",
    "        i += 1\n",
    "\n",
    "    def apply_op(op):\n",
    "        if op == '!':\n",
    "            a = val_stack.pop()\n",
    "            fact = 1\n",
    "            for j in range(1, a + 1):\n",
    "                fact *= j\n",
    "            val_stack.push(fact)\n",
    "        else:\n",
    "            b = val_stack.pop()\n",
    "            a = val_stack.pop()\n",
    "            if op == '+':\n",
    "                val_stack.push(a + b)\n",
    "            elif op == '-':\n",
    "                val_stack.push(a - b)\n",
    "            elif op == '*':\n",
    "                val_stack.push(a * b)\n",
    "            elif op == '/':\n",
    "                val_stack.push(a / b)\n",
    "            elif op == '^':\n",
    "                val_stack.push(a ** b)\n",
    "\n",
    "    for token in tokens:\n",
    "        if token.isdigit():\n",
    "            val_stack.push(int(token))\n",
    "        elif token in left_brackets:\n",
    "            op_stack.push(token)\n",
    "        elif token in right_brackets:\n",
    "            while not op_stack.is_empty() and op_stack.top() != right_brackets[token]:\n",
    "                apply_op(op_stack.pop())\n",
    "            op_stack.pop()\n",
    "        else:\n",
    "            while (not op_stack.is_empty() and op_stack.top() not in left_brackets and\n",
    "                   precedence.get(token, 0) <= precedence.get(op_stack.top(), 0)):\n",
    "                apply_op(op_stack.pop())\n",
    "            op_stack.push(token)\n",
    "    while not op_stack.is_empty():\n",
    "        apply_op(op_stack.pop())\n",
    "    return val_stack.pop()\n",
    "\n",
    "print(\"中缀表达式直接求值:\", evaluate_infix(infix_expr))"
   ]
  },
  {
   "cell_type": "markdown",
   "id": "273c3357",
   "metadata": {},
   "source": [
    "## 八皇后问题\n",
    "- 回溯法"
   ]
  },
  {
   "cell_type": "code",
   "execution_count": 8,
   "id": "4b50850f",
   "metadata": {},
   "outputs": [],
   "source": [
    "class Queen:\n",
    "    def __init__(self, x, y):\n",
    "        self.x = x\n",
    "        self.y = y\n",
    "    def __eq__(self, other):\n",
    "        return self.x == other.x or self.y == other.y or abs(self.x - other.x) == abs(self.y - other.y)\n",
    "    \n",
    "def solve_queens_stack(n):\n",
    "    solutions = []\n",
    "    s = stack()\n",
    "    row = 0\n",
    "    cols = [0] * n\n",
    "    while True:\n",
    "        found = False\n",
    "        while cols[row] < n:\n",
    "            new_queen = Queen(row, cols[row])\n",
    "            if not any(new_queen == q for q in s.items):\n",
    "                s.push(new_queen)\n",
    "                cols[row] += 1\n",
    "                row += 1\n",
    "                found = True\n",
    "                break\n",
    "            cols[row] += 1\n",
    "        if not found:\n",
    "            if s.is_empty():\n",
    "                break\n",
    "            last_queen = s.pop()\n",
    "            row = last_queen.x\n",
    "            cols[row] = last_queen.y + 1\n",
    "        if s.size() == n:\n",
    "            solutions.append(list(s.items))\n",
    "            last_queen = s.pop()\n",
    "            row = last_queen.x\n",
    "            cols[row] = last_queen.y + 1\n",
    "    return solutions\n",
    "\n",
    "def print_queens(queens):\n",
    "    n = len(queens)\n",
    "    for i in range(n):\n",
    "        row = ['.'] * n\n",
    "        row[queens[i].y] = 'Q'\n",
    "        print(' '.join(row))\n",
    "    print()\n",
    "\n",
    "# 打印8皇后的所有解\n",
    "for solution in solve_queens_stack(8):\n",
    "    print_queens(solution)\n"
   ]
  },
  {
   "cell_type": "markdown",
   "id": "1a67aa9d",
   "metadata": {},
   "source": [
    "## Queue的基本应用\n",
    "1. 离散事件的模拟"
   ]
  },
  {
   "cell_type": "code",
   "execution_count": 9,
   "id": "44e59a05",
   "metadata": {},
   "outputs": [
    {
     "name": "stdout",
     "output_type": "stream",
     "text": [
      "时间: 0\n",
      "窗口0: [] 窗口1: [] 窗口2: [] 窗口3: [] 窗口4: [] 窗口5: [] 窗口6: [] 窗口7: [] 窗口8: [] 窗口9: [] \n",
      "------------------------------\n",
      "时间: 1\n",
      "窗口0: [12] 窗口1: [] 窗口2: [] 窗口3: [] 窗口4: [] 窗口5: [] 窗口6: [] 窗口7: [] 窗口8: [] 窗口9: [] \n",
      "------------------------------\n",
      "时间: 2\n",
      "窗口0: [11] 窗口1: [47] 窗口2: [] 窗口3: [] 窗口4: [] 窗口5: [] 窗口6: [] 窗口7: [] 窗口8: [] 窗口9: [] \n",
      "------------------------------\n",
      "时间: 3\n",
      "窗口0: [10] 窗口1: [46] 窗口2: [74] 窗口3: [] 窗口4: [] 窗口5: [] 窗口6: [] 窗口7: [] 窗口8: [] 窗口9: [] \n",
      "------------------------------\n",
      "时间: 4\n",
      "窗口0: [9] 窗口1: [45] 窗口2: [73] 窗口3: [28] 窗口4: [] 窗口5: [] 窗口6: [] 窗口7: [] 窗口8: [] 窗口9: [] \n",
      "------------------------------\n",
      "时间: 5\n",
      "窗口0: [8] 窗口1: [44] 窗口2: [72] 窗口3: [27] 窗口4: [79] 窗口5: [] 窗口6: [] 窗口7: [] 窗口8: [] 窗口9: [] \n",
      "------------------------------\n",
      "时间: 6\n",
      "窗口0: [7] 窗口1: [43] 窗口2: [71] 窗口3: [26] 窗口4: [78] 窗口5: [35] 窗口6: [] 窗口7: [] 窗口8: [] 窗口9: [] \n",
      "------------------------------\n",
      "时间: 7\n",
      "窗口0: [6] 窗口1: [42] 窗口2: [70] 窗口3: [25] 窗口4: [77] 窗口5: [34] 窗口6: [1] 窗口7: [] 窗口8: [] 窗口9: [] \n",
      "------------------------------\n",
      "时间: 8\n",
      "窗口0: [5] 窗口1: [41] 窗口2: [69] 窗口3: [24] 窗口4: [76] 窗口5: [33] 窗口6: [] 窗口7: [96] 窗口8: [] 窗口9: [] \n",
      "------------------------------\n",
      "时间: 9\n",
      "窗口0: [4] 窗口1: [40] 窗口2: [68] 窗口3: [23] 窗口4: [75] 窗口5: [32] 窗口6: [15] 窗口7: [95] 窗口8: [] 窗口9: [] \n",
      "------------------------------\n"
     ]
    }
   ],
   "source": [
    "import random\n",
    "class Customer:\n",
    "    def __init__(self, window, time):\n",
    "        self.window = window\n",
    "        self.time = time\n",
    "    def __repr__(self):\n",
    "        return f\"Customer(window={self.window}, time={self.time})\"\n",
    "\n",
    "def best_window(windows):\n",
    "    # 返回队列长度最短的窗口编号\n",
    "    lengths = [w.size() for w in windows]\n",
    "    return lengths.index(min(lengths))\n",
    "\n",
    "def display_progress(windows, nWin, now):\n",
    "    print(f\"时间: {now}\")\n",
    "    for i in range(nWin):\n",
    "        print(f\"窗口{i}: {[c.time for c in windows[i].items]}\",end=' ')\n",
    "    print()\n",
    "    print(\"-\" * 30)\n",
    "\n",
    "def simulate(nWin, servTime):\n",
    "    windows = [queue() for _ in range(nWin)]\n",
    "    for now in range(servTime):\n",
    "        if random.randint(0, nWin) != 0:  # 新顾客以nWin/(nWin+1)概率到达\n",
    "            c = Customer(window=None, time=random.randint(1, 98))\n",
    "            c.window = best_window(windows)\n",
    "            windows[c.window].enqueue(c)\n",
    "        for i in range(nWin):\n",
    "            if not windows[i].is_empty():\n",
    "                windows[i].items[0].time -= 1\n",
    "                if windows[i].items[0].time <= 0:\n",
    "                    windows[i].dequeue()\n",
    "        display_progress(windows, nWin, now)\n",
    "\n",
    "# example usage\n",
    "simulate(10, 10)"
   ]
  }
 ],
 "metadata": {
  "kernelspec": {
   "display_name": "jup_me",
   "language": "python",
   "name": "python3"
  },
  "language_info": {
   "codemirror_mode": {
    "name": "ipython",
    "version": 3
   },
   "file_extension": ".py",
   "mimetype": "text/x-python",
   "name": "python",
   "nbconvert_exporter": "python",
   "pygments_lexer": "ipython3",
   "version": "3.10.18"
  }
 },
 "nbformat": 4,
 "nbformat_minor": 5
}
